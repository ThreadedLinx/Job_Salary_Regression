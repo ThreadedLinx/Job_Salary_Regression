{
 "cells": [
  {
   "cell_type": "code",
   "execution_count": 1,
   "metadata": {},
   "outputs": [],
   "source": [
    "#Import Libraries\n",
    "import pandas as pd\n",
    "import numpy as np\n",
    "import matplotlib.pyplot as pyplot\n",
    "from matplotlib import style\n",
    "import pickle\n",
    "import sklearn\n",
    "from sklearn import linear_model\n",
    "from sklearn.utils import shuffle\n"
   ]
  },
  {
   "cell_type": "code",
   "execution_count": 2,
   "metadata": {},
   "outputs": [],
   "source": [
    "#Read In Desired DataSet\n",
    "data = pd.read_csv('/Users/nay/Desktop/Development/Data_Analyst/Indeed_Salary_By_Location/Saved_Searches_CSV/Creative%20Director_in_New%20York%20City_Los%20Angeles_Miami.csv')\n"
   ]
  },
  {
   "cell_type": "code",
   "execution_count": 3,
   "metadata": {},
   "outputs": [
    {
     "name": "stdout",
     "output_type": "stream",
     "text": [
      "<class 'pandas.core.frame.DataFrame'>\n",
      "RangeIndex: 175 entries, 0 to 174\n",
      "Data columns (total 6 columns):\n",
      " #   Column          Non-Null Count  Dtype  \n",
      "---  ------          --------------  -----  \n",
      " 0   position        175 non-null    object \n",
      " 1   input Position  175 non-null    object \n",
      " 2   company         175 non-null    object \n",
      " 3   location        175 non-null    object \n",
      " 4   input City      175 non-null    object \n",
      " 5   salary          175 non-null    float64\n",
      "dtypes: float64(1), object(5)\n",
      "memory usage: 8.3+ KB\n"
     ]
    }
   ],
   "source": [
    "#Data Info\n",
    "data.info()"
   ]
  },
  {
   "cell_type": "code",
   "execution_count": 4,
   "metadata": {},
   "outputs": [
    {
     "data": {
      "text/html": [
       "<div>\n",
       "<style scoped>\n",
       "    .dataframe tbody tr th:only-of-type {\n",
       "        vertical-align: middle;\n",
       "    }\n",
       "\n",
       "    .dataframe tbody tr th {\n",
       "        vertical-align: top;\n",
       "    }\n",
       "\n",
       "    .dataframe thead th {\n",
       "        text-align: right;\n",
       "    }\n",
       "</style>\n",
       "<table border=\"1\" class=\"dataframe\">\n",
       "  <thead>\n",
       "    <tr style=\"text-align: right;\">\n",
       "      <th></th>\n",
       "      <th>position</th>\n",
       "      <th>input Position</th>\n",
       "      <th>company</th>\n",
       "      <th>location</th>\n",
       "      <th>input City</th>\n",
       "      <th>salary</th>\n",
       "    </tr>\n",
       "  </thead>\n",
       "  <tbody>\n",
       "    <tr>\n",
       "      <th>0</th>\n",
       "      <td>Associate Director, Social Creative, GQ Sports</td>\n",
       "      <td>Creative Director</td>\n",
       "      <td>Conde Nast</td>\n",
       "      <td>New York, NY\\n+2 locations</td>\n",
       "      <td>New York City</td>\n",
       "      <td>80.00</td>\n",
       "    </tr>\n",
       "    <tr>\n",
       "      <th>1</th>\n",
       "      <td>Creative Director</td>\n",
       "      <td>Creative Director</td>\n",
       "      <td>Havas Group</td>\n",
       "      <td>New York, NY\\n+1 location</td>\n",
       "      <td>New York City</td>\n",
       "      <td>96.65</td>\n",
       "    </tr>\n",
       "    <tr>\n",
       "      <th>2</th>\n",
       "      <td>Creative Director</td>\n",
       "      <td>Creative Director</td>\n",
       "      <td>Razorfish</td>\n",
       "      <td>New York, NY 10014 \\n(SoHo area)\\n+1 location</td>\n",
       "      <td>New York City</td>\n",
       "      <td>114.50</td>\n",
       "    </tr>\n",
       "    <tr>\n",
       "      <th>3</th>\n",
       "      <td>Creative Director, Marketing</td>\n",
       "      <td>Creative Director</td>\n",
       "      <td>Paramount+</td>\n",
       "      <td>Remote in New York, NY 10036\\n+1 location</td>\n",
       "      <td>New York City</td>\n",
       "      <td>96.70</td>\n",
       "    </tr>\n",
       "    <tr>\n",
       "      <th>4</th>\n",
       "      <td>Director, Global Creative Packaging, MAC</td>\n",
       "      <td>Creative Director</td>\n",
       "      <td>The Estée Lauder Companies</td>\n",
       "      <td>New York, NY\\n+1 location</td>\n",
       "      <td>New York City</td>\n",
       "      <td>114.00</td>\n",
       "    </tr>\n",
       "    <tr>\n",
       "      <th>...</th>\n",
       "      <td>...</td>\n",
       "      <td>...</td>\n",
       "      <td>...</td>\n",
       "      <td>...</td>\n",
       "      <td>...</td>\n",
       "      <td>...</td>\n",
       "    </tr>\n",
       "    <tr>\n",
       "      <th>170</th>\n",
       "      <td>Experience Design Director</td>\n",
       "      <td>Creative Director</td>\n",
       "      <td>Razorfish</td>\n",
       "      <td>Miami, FL 33133 \\n(North-East Coconut Grove ar...</td>\n",
       "      <td>Miami</td>\n",
       "      <td>83.30</td>\n",
       "    </tr>\n",
       "    <tr>\n",
       "      <th>171</th>\n",
       "      <td>Director, Experience Design</td>\n",
       "      <td>Creative Director</td>\n",
       "      <td>Magic Leap - Multiple Locations</td>\n",
       "      <td>Remote in Fort Lauderdale, FL</td>\n",
       "      <td>Miami</td>\n",
       "      <td>157.00</td>\n",
       "    </tr>\n",
       "    <tr>\n",
       "      <th>172</th>\n",
       "      <td>Associate Creative Director - Design - Deloitt...</td>\n",
       "      <td>Creative Director</td>\n",
       "      <td>Deloitte</td>\n",
       "      <td>Miami, FL 33131 \\n(Downtown area)\\n+2 locations</td>\n",
       "      <td>Miami</td>\n",
       "      <td>131.50</td>\n",
       "    </tr>\n",
       "    <tr>\n",
       "      <th>173</th>\n",
       "      <td>Associate Director, Instructional Design &amp; Dev...</td>\n",
       "      <td>Creative Director</td>\n",
       "      <td>KPMG</td>\n",
       "      <td>Miami, FL\\n+1 location</td>\n",
       "      <td>Miami</td>\n",
       "      <td>101.90</td>\n",
       "    </tr>\n",
       "    <tr>\n",
       "      <th>174</th>\n",
       "      <td>Event - Art Director/Jr Art Director (Dependin...</td>\n",
       "      <td>Creative Director</td>\n",
       "      <td>Everlast Productions Event Entertainment</td>\n",
       "      <td>Dania, FL 33004</td>\n",
       "      <td>Miami</td>\n",
       "      <td>57.50</td>\n",
       "    </tr>\n",
       "  </tbody>\n",
       "</table>\n",
       "<p>175 rows × 6 columns</p>\n",
       "</div>"
      ],
      "text/plain": [
       "                                              position     input Position  \\\n",
       "0       Associate Director, Social Creative, GQ Sports  Creative Director   \n",
       "1                                    Creative Director  Creative Director   \n",
       "2                                    Creative Director  Creative Director   \n",
       "3                         Creative Director, Marketing  Creative Director   \n",
       "4             Director, Global Creative Packaging, MAC  Creative Director   \n",
       "..                                                 ...                ...   \n",
       "170                         Experience Design Director  Creative Director   \n",
       "171                        Director, Experience Design  Creative Director   \n",
       "172  Associate Creative Director - Design - Deloitt...  Creative Director   \n",
       "173  Associate Director, Instructional Design & Dev...  Creative Director   \n",
       "174  Event - Art Director/Jr Art Director (Dependin...  Creative Director   \n",
       "\n",
       "                                      company  \\\n",
       "0                                  Conde Nast   \n",
       "1                                 Havas Group   \n",
       "2                                   Razorfish   \n",
       "3                                  Paramount+   \n",
       "4                  The Estée Lauder Companies   \n",
       "..                                        ...   \n",
       "170                                 Razorfish   \n",
       "171           Magic Leap - Multiple Locations   \n",
       "172                                  Deloitte   \n",
       "173                                      KPMG   \n",
       "174  Everlast Productions Event Entertainment   \n",
       "\n",
       "                                              location     input City  salary  \n",
       "0                           New York, NY\\n+2 locations  New York City   80.00  \n",
       "1                            New York, NY\\n+1 location  New York City   96.65  \n",
       "2        New York, NY 10014 \\n(SoHo area)\\n+1 location  New York City  114.50  \n",
       "3            Remote in New York, NY 10036\\n+1 location  New York City   96.70  \n",
       "4                            New York, NY\\n+1 location  New York City  114.00  \n",
       "..                                                 ...            ...     ...  \n",
       "170  Miami, FL 33133 \\n(North-East Coconut Grove ar...          Miami   83.30  \n",
       "171                      Remote in Fort Lauderdale, FL          Miami  157.00  \n",
       "172    Miami, FL 33131 \\n(Downtown area)\\n+2 locations          Miami  131.50  \n",
       "173                             Miami, FL\\n+1 location          Miami  101.90  \n",
       "174                                    Dania, FL 33004          Miami   57.50  \n",
       "\n",
       "[175 rows x 6 columns]"
      ]
     },
     "metadata": {},
     "output_type": "display_data"
    }
   ],
   "source": [
    "#Displaying Data Frame\n",
    "\n",
    "display(data)"
   ]
  },
  {
   "cell_type": "code",
   "execution_count": 5,
   "metadata": {},
   "outputs": [
    {
     "data": {
      "text/plain": [
       "position          0\n",
       "input Position    0\n",
       "company           0\n",
       "location          0\n",
       "input City        0\n",
       "salary            0\n",
       "dtype: int64"
      ]
     },
     "execution_count": 5,
     "metadata": {},
     "output_type": "execute_result"
    }
   ],
   "source": [
    "#Check If There Are Any Special Characters In The Data Set\n",
    "data.isin(['$']).sum(axis=0)"
   ]
  },
  {
   "cell_type": "code",
   "execution_count": 6,
   "metadata": {},
   "outputs": [
    {
     "name": "stdout",
     "output_type": "stream",
     "text": [
      "---- position ---\n",
      "Creative Director                                                  56\n",
      "Associate Creative Director                                        12\n",
      "Associate Creative Director (Freelance) - Remote                    6\n",
      "Metaverse Creative Director                                         5\n",
      "Executive Creative Director                                         4\n",
      "Associate Director, Social Creative, GQ Sports                      3\n",
      "Associate Creative Director, Refinery29                             3\n",
      "Creative Director (Remote)                                          3\n",
      "Director, Creative Advertising                                      3\n",
      "Director, eCommerce Creative – Def Jam                              3\n",
      "Director, Creative Marketing                                        3\n",
      "Senior Director, Creative Sync                                      3\n",
      "Brand Creative Director                                             3\n",
      "Associate Creative Director, Social Creative (Freeform)             3\n",
      "Creative Director, FX Networks                                      3\n",
      "Creative Director - REMOTE WORK                                     3\n",
      "Creative Director, Blue Studio                                      3\n",
      "Director, Creative Operations                                       3\n",
      "Manager, Creative Director                                          3\n",
      "Associate Creative Director, Art                                    3\n",
      "Associate Director, Creative Strategy                               3\n",
      "Creative Director, WhatsApp                                         3\n",
      "Creative Direction, Content Director                                3\n",
      "Director, Global Creative Packaging, MAC                            3\n",
      "Creative Director, Marketing                                        3\n",
      "Associate Creative Director - Design - Deloitte’s Green Dot...      2\n",
      "Experience Design Director                                          2\n",
      "Art Director                                                        2\n",
      "Creative Director, Copy                                             2\n",
      "Director, Experience Design                                         2\n",
      "Boutique Director, Miami Design District, Men's                     2\n",
      "Event - Art Director/Jr Art Director (Depending on Experienc...     2\n",
      "Creative Director - Marketing Manager                               2\n",
      "Creative Director, Global Brand & Originals                         2\n",
      "Associate Creative Director-Copy                                    2\n",
      "Creative Services Director, WSFL                                    2\n",
      "Social Media Director                                               2\n",
      "Senior Creative Director                                            2\n",
      "Restaurant Design and Development Director for a Growing Bra...     2\n",
      "Associate Creative Director Boston / New York / Bay Area / C...     2\n",
      "Creative Director, Shared Studio                                    1\n",
      "Associate Director, Instructional Design & Development              1\n",
      "Name: position, dtype: int64\n",
      "---- input Position ---\n",
      "Creative Director    175\n",
      "Name: input Position, dtype: int64\n",
      "---- company ---\n",
      "Accenture                                     10\n",
      "Paramount+                                     9\n",
      "Razorfish                                      7\n",
      "Revolt Media & TV                              6\n",
      "Deloitte                                       4\n",
      "NTWRK                                          3\n",
      "Dolls Kill                                     3\n",
      "Netflix                                        3\n",
      "Havas Group                                    3\n",
      "Walt Disney Television                         3\n",
      "BairesDev                                      3\n",
      "Movement Strategy                              3\n",
      "Golin                                          3\n",
      "Conde Nast                                     3\n",
      "Capitol Music Group                            3\n",
      "VICE MEDIA GROUP                               3\n",
      "Def Jam                                        3\n",
      "Lionsgate                                      3\n",
      "Buck Mason                                     3\n",
      "DigDeep Right to Water Project                 3\n",
      "Olaplex                                        3\n",
      "Happylucky Inc                                 3\n",
      "VaynerMedia LLC                                3\n",
      "attn:                                          3\n",
      "Disney Media & Entertainment Distribution      3\n",
      "Hearst Media Services                          3\n",
      "Employment Opportunities at BuzzFeed, Inc.     3\n",
      "The Estée Lauder Companies                     3\n",
      "Showtime                                       3\n",
      "B-Reel                                         3\n",
      "IBM                                            3\n",
      "WhatsApp                                       3\n",
      "Blink Fitness                                  3\n",
      "Ropes & Gray                                   3\n",
      "160over90                                      3\n",
      "Billie                                         3\n",
      "Gravity Road                                   3\n",
      "Peloton                                        3\n",
      "Thinkingbox                                    3\n",
      "Capital One                                    3\n",
      "West Marine                                    2\n",
      "Everlast Productions Event Entertainment       2\n",
      "Magic Leap - Multiple Locations                2\n",
      "Neoscape                                       2\n",
      "Dentsu Media                                   2\n",
      "Hourglass Cosmetics                            2\n",
      "Newcomb & Associates LLC                       2\n",
      "Paramount Networks International               2\n",
      "Metrostudio                                    2\n",
      "Miami Dade College                             2\n",
      "The E.W. Scripps Company                       2\n",
      "Paper Street Media                             2\n",
      "Christian Dior Couture                         2\n",
      "Viramar Worldwide                              2\n",
      "Orionvisual                                    2\n",
      "StockX                                         1\n",
      "The New York Times                             1\n",
      "Korrus                                         1\n",
      "KPMG                                           1\n",
      "Name: company, dtype: int64\n",
      "---- location ---\n",
      "Los Angeles, CA                                                    18\n",
      "Remote in Los Angeles, CA                                          11\n",
      "New York, NY\\n+1 location                                           9\n",
      "Remote in New York, NY                                              8\n",
      "New York, NY\\n+2 locations                                          6\n",
      "Santa Monica, CA 90404                                              6\n",
      "New York, NY\\n+4 locations                                          5\n",
      "Fort Lauderdale, FL                                                 4\n",
      "Miami, FL 33132 \\n(Downtown area)                                   4\n",
      "Miami, FL                                                           4\n",
      "New York, NY                                                        4\n",
      "Remote in Los Angeles, CA 90028                                     3\n",
      "Los Angeles, CA 90013 \\n(Downtown area)                             3\n",
      "Burbank, CA 91505                                                   3\n",
      "Los Angeles, CA 90079 \\n(Downtown area)                             3\n",
      "Los Angeles, CA 90038                                               3\n",
      "Los Angeles, CA 90026 \\n(Silver Lake area)                          3\n",
      "Hybrid remote in Los Angeles, CA 90021                              3\n",
      "Los Angeles, CA 90028                                               3\n",
      "Burbank, CA                                                         3\n",
      "Los Angeles, CA\\n+2 locations                                       3\n",
      "New York, NY 10019 \\n(Midtown area)                                 3\n",
      "New York, NY 10016 \\n(Gramercy area)                                3\n",
      "New York, NY 10036                                                  3\n",
      "Brooklyn, NY 11249 \\n(Chelsea area)\\n+1 location                    3\n",
      "New York, NY 10014 \\n(SoHo area)\\n+1 location                       3\n",
      "New York, NY 10036 \\n(Midtown area)                                 3\n",
      "New York, NY 10001 \\n(Chelsea area)\\n+1 location                    3\n",
      "New York, NY 10013 \\n(Tribeca area)                                 3\n",
      "Remote in New York, NY 10018                                        3\n",
      "New York, NY 10017 \\n(Midtown area)\\n+1 location                    3\n",
      "New York, NY 10011 \\n(Chelsea area)                                 3\n",
      "New York, NY 10012 \\n(Little Italy area)                            3\n",
      "Remote in New York, NY 10036\\n+1 location                           3\n",
      "Miami, FL 33126 \\n(Flagami area)                                    2\n",
      "Remote in Miami, FL 33133                                           2\n",
      "Miami, FL 33133 \\n(North-East Coconut Grove area)\\n+2 locations     2\n",
      "Miami, FL 33150                                                     2\n",
      "Miami, FL 33137 \\n(Little Haiti area)                               2\n",
      "Miami, FL 33136 \\n(Overtown area)                                   2\n",
      "Miami, FL 33126 \\n(Flagami area)\\n+1 location                       2\n",
      "West Hollywood, CA                                                  2\n",
      "Remote in Fort Lauderdale, FL                                       2\n",
      "Dania, FL 33004                                                     2\n",
      "New York, NY 10017 \\n(Murray Hill area)                             2\n",
      "Miami, FL 33131 \\n(Downtown area)\\n+2 locations                     2\n",
      "Remote in New York, NY 10002                                        1\n",
      "Los Angeles, CA 90012                                               1\n",
      "Miami, FL\\n+1 location                                              1\n",
      "Name: location, dtype: int64\n",
      "---- input City ---\n",
      "New York City    74\n",
      "Los Angeles      68\n",
      "Miami            33\n",
      "Name: input City, dtype: int64\n",
      "---- salary ---\n",
      "118.0000    8\n",
      "114.5000    6\n",
      "114.0000    6\n",
      "133.0000    6\n",
      "152.0000    6\n",
      "211.4580    5\n",
      "125.5000    5\n",
      "120.0000    5\n",
      "101.9000    4\n",
      "132.5000    4\n",
      "119.0000    4\n",
      "80.0000     3\n",
      "105.5000    3\n",
      "96.6500     3\n",
      "185.0000    3\n",
      "93.0000     3\n",
      "110.1500    3\n",
      "124.5000    3\n",
      "92.3500     3\n",
      "190.5000    3\n",
      "122.0000    3\n",
      "101.1000    3\n",
      "110.8500    3\n",
      "156.5000    3\n",
      "173.5000    3\n",
      "143.5000    3\n",
      "126.5000    3\n",
      "128.0000    3\n",
      "180.0000    3\n",
      "113.5000    3\n",
      "94.9500     3\n",
      "94.1500     3\n",
      "159.5000    3\n",
      "115.5000    3\n",
      "134.0000    3\n",
      "173.7400    3\n",
      "96.7000     3\n",
      "100.3000    3\n",
      "93.1420     2\n",
      "73.1000     2\n",
      "133.5000    2\n",
      "83.3000     2\n",
      "140.0000    2\n",
      "55.1000     2\n",
      "131.5000    2\n",
      "157.0000    2\n",
      "89.3000     2\n",
      "57.5000     2\n",
      "104.5000    2\n",
      "86.7000     2\n",
      "101.8500    2\n",
      "85.7935     2\n",
      "121.5000    2\n",
      "75.6835     2\n",
      "138.0000    2\n",
      "136.0000    1\n",
      "Name: salary, dtype: int64\n"
     ]
    }
   ],
   "source": [
    "#Avoid Noisy Features By Checking The Unique Values For Each Column\n",
    "\n",
    "for c in data.columns: #looping through dataset\n",
    "    print(\"---- %s ---\" % c) #printing current column name\n",
    "    print(data[c].value_counts()) #Using .value_counts() function which returns the count of unique values"
   ]
  },
  {
   "cell_type": "code",
   "execution_count": 7,
   "metadata": {},
   "outputs": [
    {
     "data": {
      "text/plain": [
       "55.1"
      ]
     },
     "execution_count": 7,
     "metadata": {},
     "output_type": "execute_result"
    }
   ],
   "source": [
    "#Find Min and Max To Categorize Data\n",
    "data['salary'].min()"
   ]
  },
  {
   "cell_type": "code",
   "execution_count": 8,
   "metadata": {},
   "outputs": [
    {
     "data": {
      "text/plain": [
       "211.458"
      ]
     },
     "execution_count": 8,
     "metadata": {},
     "output_type": "execute_result"
    }
   ],
   "source": [
    "#Find Max\n",
    "data['salary'].max()"
   ]
  },
  {
   "cell_type": "code",
   "execution_count": 9,
   "metadata": {},
   "outputs": [
    {
     "data": {
      "text/plain": [
       "118.0000    8\n",
       "114.0000    6\n",
       "133.0000    6\n",
       "152.0000    6\n",
       "114.5000    6\n",
       "211.4580    5\n",
       "125.5000    5\n",
       "120.0000    5\n",
       "101.9000    4\n",
       "132.5000    4\n",
       "119.0000    4\n",
       "94.1500     3\n",
       "126.5000    3\n",
       "128.0000    3\n",
       "113.5000    3\n",
       "94.9500     3\n",
       "96.7000     3\n",
       "159.5000    3\n",
       "115.5000    3\n",
       "134.0000    3\n",
       "173.7400    3\n",
       "173.5000    3\n",
       "100.3000    3\n",
       "143.5000    3\n",
       "180.0000    3\n",
       "156.5000    3\n",
       "110.1500    3\n",
       "110.8500    3\n",
       "80.0000     3\n",
       "105.5000    3\n",
       "185.0000    3\n",
       "93.0000     3\n",
       "96.6500     3\n",
       "124.5000    3\n",
       "92.3500     3\n",
       "190.5000    3\n",
       "122.0000    3\n",
       "101.1000    3\n",
       "57.5000     2\n",
       "138.0000    2\n",
       "75.6835     2\n",
       "121.5000    2\n",
       "85.7935     2\n",
       "101.8500    2\n",
       "86.7000     2\n",
       "104.5000    2\n",
       "133.5000    2\n",
       "89.3000     2\n",
       "157.0000    2\n",
       "131.5000    2\n",
       "55.1000     2\n",
       "140.0000    2\n",
       "83.3000     2\n",
       "73.1000     2\n",
       "93.1420     2\n",
       "136.0000    1\n",
       "Name: salary, dtype: int64"
      ]
     },
     "execution_count": 9,
     "metadata": {},
     "output_type": "execute_result"
    }
   ],
   "source": [
    "data['salary'].value_counts().sort_values(ascending=False)"
   ]
  },
  {
   "cell_type": "code",
   "execution_count": 10,
   "metadata": {},
   "outputs": [],
   "source": [
    "#Setting Salary To Quantitative Feautures Based On Range\n",
    "data.loc[(data['salary'] >= 50.0) & (data['salary'] <= 59.99), 'salary'] = 55\n",
    "data.loc[(data['salary'] >= 60.0) & (data['salary'] <= 69.99), 'salary'] = 65\n",
    "data.loc[(data['salary'] >= 70.0) & (data['salary'] <= 79.99), 'salary'] = 75\n",
    "data.loc[(data['salary'] >= 80.0) & (data['salary'] <= 89.99), 'salary'] = 85\n",
    "data.loc[(data['salary'] >= 90.0) & (data['salary'] <= 99.99), 'salary'] = 95\n",
    "data.loc[(data['salary'] >= 100.0) & (data['salary'] <= 109.99), 'salary'] = 105\n",
    "data.loc[(data['salary'] >= 110.0) & (data['salary'] <= 119.99), 'salary'] = 115\n",
    "data.loc[(data['salary'] >= 120.0) & (data['salary'] <= 129.99), 'salary'] = 125\n",
    "data.loc[(data['salary'] >= 130.0) & (data['salary'] <= 139.99), 'salary'] = 135\n",
    "data.loc[(data['salary'] >= 140.0) & (data['salary'] <= 149.99), 'salary'] = 145\n",
    "data.loc[(data['salary'] >= 150.0) & (data['salary'] <= 159.99), 'salary'] = 155\n",
    "data.loc[(data['salary'] >= 160.0) & (data['salary'] <= 169.99), 'salary'] = 165\n",
    "data.loc[(data['salary'] >= 170.0) & (data['salary'] <= 179.99), 'salary'] = 175\n",
    "data.loc[(data['salary'] >= 180.0) & (data['salary'] <= 189.99), 'salary'] = 185\n",
    "data.loc[(data['salary'] >= 190.0) & (data['salary'] <= 199.99), 'salary'] = 195\n",
    "data.loc[(data['salary'] >= 200.0), 'salary'] = 200"
   ]
  },
  {
   "cell_type": "code",
   "execution_count": 11,
   "metadata": {},
   "outputs": [
    {
     "data": {
      "text/plain": [
       "115.0    36\n",
       "125.0    24\n",
       "95.0     20\n",
       "135.0    20\n",
       "105.0    17\n",
       "155.0    14\n",
       "85.0     11\n",
       "175.0     6\n",
       "185.0     6\n",
       "200.0     5\n",
       "145.0     5\n",
       "75.0      4\n",
       "55.0      4\n",
       "195.0     3\n",
       "Name: salary, dtype: int64"
      ]
     },
     "execution_count": 11,
     "metadata": {},
     "output_type": "execute_result"
    }
   ],
   "source": [
    "#Checking If Salary Variables Where Updated\n",
    "data['salary'].value_counts()"
   ]
  },
  {
   "cell_type": "code",
   "execution_count": 12,
   "metadata": {},
   "outputs": [
    {
     "data": {
      "text/plain": [
       "New York City    74\n",
       "Los Angeles      68\n",
       "Miami            33\n",
       "Name: input City, dtype: int64"
      ]
     },
     "execution_count": 12,
     "metadata": {},
     "output_type": "execute_result"
    }
   ],
   "source": [
    "#Checking Our Input Cities\n",
    "data['input City'].value_counts()"
   ]
  },
  {
   "cell_type": "code",
   "execution_count": 13,
   "metadata": {},
   "outputs": [
    {
     "data": {
      "text/plain": [
       "1    74\n",
       "0    68\n",
       "2    33\n",
       "Name: input City, dtype: int64"
      ]
     },
     "execution_count": 13,
     "metadata": {},
     "output_type": "execute_result"
    }
   ],
   "source": [
    "#Setting input City To Quantitative Value\n",
    "data.loc[(data['input City'] == 'Los Angeles'), 'input City'] = 0\n",
    "data.loc[(data['input City'] == 'New York City'), 'input City'] = 1\n",
    "data.loc[(data['input City'] == 'Miami'), 'input City'] = 2\n",
    "\n",
    "#Checking New Input Cities Data\n",
    "data['input City'].value_counts()"
   ]
  },
  {
   "cell_type": "code",
   "execution_count": 14,
   "metadata": {},
   "outputs": [
    {
     "data": {
      "text/html": [
       "<div>\n",
       "<style scoped>\n",
       "    .dataframe tbody tr th:only-of-type {\n",
       "        vertical-align: middle;\n",
       "    }\n",
       "\n",
       "    .dataframe tbody tr th {\n",
       "        vertical-align: top;\n",
       "    }\n",
       "\n",
       "    .dataframe thead th {\n",
       "        text-align: right;\n",
       "    }\n",
       "</style>\n",
       "<table border=\"1\" class=\"dataframe\">\n",
       "  <thead>\n",
       "    <tr style=\"text-align: right;\">\n",
       "      <th></th>\n",
       "      <th>input City</th>\n",
       "      <th>salary</th>\n",
       "    </tr>\n",
       "  </thead>\n",
       "  <tbody>\n",
       "    <tr>\n",
       "      <th>0</th>\n",
       "      <td>1</td>\n",
       "      <td>85.0</td>\n",
       "    </tr>\n",
       "    <tr>\n",
       "      <th>1</th>\n",
       "      <td>1</td>\n",
       "      <td>95.0</td>\n",
       "    </tr>\n",
       "    <tr>\n",
       "      <th>2</th>\n",
       "      <td>1</td>\n",
       "      <td>115.0</td>\n",
       "    </tr>\n",
       "    <tr>\n",
       "      <th>3</th>\n",
       "      <td>1</td>\n",
       "      <td>95.0</td>\n",
       "    </tr>\n",
       "    <tr>\n",
       "      <th>4</th>\n",
       "      <td>1</td>\n",
       "      <td>115.0</td>\n",
       "    </tr>\n",
       "    <tr>\n",
       "      <th>...</th>\n",
       "      <td>...</td>\n",
       "      <td>...</td>\n",
       "    </tr>\n",
       "    <tr>\n",
       "      <th>170</th>\n",
       "      <td>2</td>\n",
       "      <td>85.0</td>\n",
       "    </tr>\n",
       "    <tr>\n",
       "      <th>171</th>\n",
       "      <td>2</td>\n",
       "      <td>155.0</td>\n",
       "    </tr>\n",
       "    <tr>\n",
       "      <th>172</th>\n",
       "      <td>2</td>\n",
       "      <td>135.0</td>\n",
       "    </tr>\n",
       "    <tr>\n",
       "      <th>173</th>\n",
       "      <td>2</td>\n",
       "      <td>105.0</td>\n",
       "    </tr>\n",
       "    <tr>\n",
       "      <th>174</th>\n",
       "      <td>2</td>\n",
       "      <td>55.0</td>\n",
       "    </tr>\n",
       "  </tbody>\n",
       "</table>\n",
       "<p>175 rows × 2 columns</p>\n",
       "</div>"
      ],
      "text/plain": [
       "    input City  salary\n",
       "0            1    85.0\n",
       "1            1    95.0\n",
       "2            1   115.0\n",
       "3            1    95.0\n",
       "4            1   115.0\n",
       "..         ...     ...\n",
       "170          2    85.0\n",
       "171          2   155.0\n",
       "172          2   135.0\n",
       "173          2   105.0\n",
       "174          2    55.0\n",
       "\n",
       "[175 rows x 2 columns]"
      ]
     },
     "metadata": {},
     "output_type": "display_data"
    }
   ],
   "source": [
    "#Only Using Necessary Data From Table - Salary and Input City\n",
    "data = data[[\"input City\", \"salary\"]]\n",
    "\n",
    "display(data)"
   ]
  },
  {
   "cell_type": "code",
   "execution_count": 15,
   "metadata": {},
   "outputs": [
    {
     "name": "stdout",
     "output_type": "stream",
     "text": [
      "<class 'pandas.core.frame.DataFrame'>\n",
      "RangeIndex: 175 entries, 0 to 174\n",
      "Data columns (total 2 columns):\n",
      " #   Column      Non-Null Count  Dtype  \n",
      "---  ------      --------------  -----  \n",
      " 0   input City  175 non-null    object \n",
      " 1   salary      175 non-null    float64\n",
      "dtypes: float64(1), object(1)\n",
      "memory usage: 2.9+ KB\n"
     ]
    }
   ],
   "source": [
    "data.info()"
   ]
  },
  {
   "cell_type": "code",
   "execution_count": 16,
   "metadata": {},
   "outputs": [
    {
     "data": {
      "text/plain": [
       "input City     object\n",
       "salary        float64\n",
       "dtype: object"
      ]
     },
     "metadata": {},
     "output_type": "display_data"
    },
    {
     "data": {
      "text/plain": [
       "input City    object\n",
       "salary         int64\n",
       "dtype: object"
      ]
     },
     "metadata": {},
     "output_type": "display_data"
    }
   ],
   "source": [
    "#Converting Salary Column To Int\n",
    "display(data.dtypes)\n",
    "\n",
    "data['salary'] = data['salary'].astype(int)\n",
    "\n",
    "display(data.dtypes)\n"
   ]
  },
  {
   "cell_type": "code",
   "execution_count": 17,
   "metadata": {},
   "outputs": [
    {
     "data": {
      "text/plain": [
       "input City    object\n",
       "salary         int64\n",
       "dtype: object"
      ]
     },
     "metadata": {},
     "output_type": "display_data"
    },
    {
     "data": {
      "text/plain": [
       "input City    int64\n",
       "salary        int64\n",
       "dtype: object"
      ]
     },
     "metadata": {},
     "output_type": "display_data"
    }
   ],
   "source": [
    "#Converting Input City Column To Int\n",
    "display(data.dtypes)\n",
    "\n",
    "data['input City'] = data['input City'].astype(int)\n",
    "\n",
    "display(data.dtypes)"
   ]
  },
  {
   "cell_type": "code",
   "execution_count": 18,
   "metadata": {},
   "outputs": [
    {
     "name": "stdout",
     "output_type": "stream",
     "text": [
      "<class 'pandas.core.frame.DataFrame'>\n",
      "RangeIndex: 175 entries, 0 to 174\n",
      "Data columns (total 2 columns):\n",
      " #   Column  Non-Null Count  Dtype\n",
      "---  ------  --------------  -----\n",
      " 0   city    175 non-null    int64\n",
      " 1   salary  175 non-null    int64\n",
      "dtypes: int64(2)\n",
      "memory usage: 2.9 KB\n"
     ]
    }
   ],
   "source": [
    "#Renaming Input City So It Has No Spaces\n",
    "data.rename(columns= {'input City':'city'}, inplace=True)\n",
    "\n",
    "data.info()"
   ]
  },
  {
   "cell_type": "code",
   "execution_count": 19,
   "metadata": {},
   "outputs": [],
   "source": [
    "#Define What We Want To Predict\n",
    "#We Want To Predict 'salary' Which Stands For Salary In K($1,000) Denominations\n",
    "\n",
    "predict = \"salary\""
   ]
  },
  {
   "cell_type": "code",
   "execution_count": 20,
   "metadata": {},
   "outputs": [
    {
     "name": "stderr",
     "output_type": "stream",
     "text": [
      "/var/folders/vb/m3xyby050z56qdndd3_x554h0000gn/T/ipykernel_12394/3578700569.py:2: FutureWarning: In a future version of pandas all arguments of DataFrame.drop except for the argument 'labels' will be keyword-only.\n",
      "  X = np.array(data.drop([predict], 1)) #Returns Dataframe that doesn't have salary In It\n"
     ]
    }
   ],
   "source": [
    "#Set Up an Array Of Attritubes/Features - Independent Variables\n",
    "X = np.array(data.drop([predict], 1)) #Returns Dataframe that doesn't have salary In It\n",
    "\n",
    "#Y is Labels = What We're Predicting - The Dependent Variable - The salary\n",
    "y = np.array(data[predict])"
   ]
  },
  {
   "cell_type": "code",
   "execution_count": 28,
   "metadata": {},
   "outputs": [],
   "source": [
    "#Splitting Cleaned Data into 4 Specific Arrays For Testing And Training Outside Of For Loop If Model Isnt Created\n",
    "#x_train, x_test, y_train, y_test = sklearn.model_selection.train_test_split(X, y, test_size=0.1)"
   ]
  },
  {
   "cell_type": "code",
   "execution_count": 21,
   "metadata": {},
   "outputs": [
    {
     "name": "stdout",
     "output_type": "stream",
     "text": [
      "Accuracy Of New Model: 0.0032396589230634376 Accuracy Of Current Best: 0\n",
      "saved new model\n",
      "Accuracy Of New Model: -0.01607924320464149 Accuracy Of Current Best: 0.0032396589230634376\n",
      "Accuracy Of New Model: -0.1371343710573214 Accuracy Of Current Best: 0.0032396589230634376\n",
      "Accuracy Of New Model: -0.16545249855429822 Accuracy Of Current Best: 0.0032396589230634376\n",
      "Accuracy Of New Model: 0.23203233792671285 Accuracy Of Current Best: 0.0032396589230634376\n",
      "saved new model\n",
      "Accuracy Of New Model: 0.1262130568288996 Accuracy Of Current Best: 0.23203233792671285\n",
      "Accuracy Of New Model: -0.14104065418909606 Accuracy Of Current Best: 0.23203233792671285\n",
      "Accuracy Of New Model: -0.48742889654482435 Accuracy Of Current Best: 0.23203233792671285\n",
      "Accuracy Of New Model: 0.03331810950158953 Accuracy Of Current Best: 0.23203233792671285\n",
      "Accuracy Of New Model: 0.1554186572891164 Accuracy Of Current Best: 0.23203233792671285\n",
      "Accuracy Of New Model: 0.049609430723744796 Accuracy Of Current Best: 0.23203233792671285\n",
      "Accuracy Of New Model: -0.39841433397482207 Accuracy Of Current Best: 0.23203233792671285\n",
      "Accuracy Of New Model: 0.005632432698779444 Accuracy Of Current Best: 0.23203233792671285\n",
      "Accuracy Of New Model: 0.08457650565351893 Accuracy Of Current Best: 0.23203233792671285\n",
      "Accuracy Of New Model: 0.005599201191429648 Accuracy Of Current Best: 0.23203233792671285\n",
      "Accuracy Of New Model: 0.08172464696775117 Accuracy Of Current Best: 0.23203233792671285\n",
      "Accuracy Of New Model: -0.586598087123904 Accuracy Of Current Best: 0.23203233792671285\n",
      "Accuracy Of New Model: 0.13822282501914762 Accuracy Of Current Best: 0.23203233792671285\n",
      "Accuracy Of New Model: -0.16752572292489099 Accuracy Of Current Best: 0.23203233792671285\n",
      "Accuracy Of New Model: 0.143413892022905 Accuracy Of Current Best: 0.23203233792671285\n",
      "Accuracy Of New Model: 0.17167054395254955 Accuracy Of Current Best: 0.23203233792671285\n",
      "Accuracy Of New Model: -0.14691718660321063 Accuracy Of Current Best: 0.23203233792671285\n",
      "Accuracy Of New Model: 0.3157513534835431 Accuracy Of Current Best: 0.23203233792671285\n",
      "saved new model\n",
      "Accuracy Of New Model: -0.22815875800279795 Accuracy Of Current Best: 0.3157513534835431\n",
      "Accuracy Of New Model: 0.06014735885128086 Accuracy Of Current Best: 0.3157513534835431\n",
      "Accuracy Of New Model: -0.5833721387986868 Accuracy Of Current Best: 0.3157513534835431\n",
      "Accuracy Of New Model: 0.053428750674712755 Accuracy Of Current Best: 0.3157513534835431\n",
      "Accuracy Of New Model: -0.07381158675856025 Accuracy Of Current Best: 0.3157513534835431\n",
      "Accuracy Of New Model: -0.09357282022981894 Accuracy Of Current Best: 0.3157513534835431\n",
      "Accuracy Of New Model: -0.1789009975961755 Accuracy Of Current Best: 0.3157513534835431\n",
      "Accuracy Of New Model: 0.140098686499471 Accuracy Of Current Best: 0.3157513534835431\n",
      "Accuracy Of New Model: 0.09943596421050249 Accuracy Of Current Best: 0.3157513534835431\n",
      "Accuracy Of New Model: 0.29386181625947794 Accuracy Of Current Best: 0.3157513534835431\n",
      "Accuracy Of New Model: -0.07344050096074439 Accuracy Of Current Best: 0.3157513534835431\n",
      "Accuracy Of New Model: -0.03225452093507397 Accuracy Of Current Best: 0.3157513534835431\n",
      "Accuracy Of New Model: 0.13943017481119735 Accuracy Of Current Best: 0.3157513534835431\n",
      "Accuracy Of New Model: -0.436507409292203 Accuracy Of Current Best: 0.3157513534835431\n",
      "Accuracy Of New Model: -0.24619650170064333 Accuracy Of Current Best: 0.3157513534835431\n",
      "Accuracy Of New Model: -0.17433667986183554 Accuracy Of Current Best: 0.3157513534835431\n",
      "Accuracy Of New Model: -0.07721481322363744 Accuracy Of Current Best: 0.3157513534835431\n",
      "Accuracy Of New Model: -0.08704859069365045 Accuracy Of Current Best: 0.3157513534835431\n",
      "Accuracy Of New Model: 0.18390679306278646 Accuracy Of Current Best: 0.3157513534835431\n",
      "Accuracy Of New Model: 0.1153033116829083 Accuracy Of Current Best: 0.3157513534835431\n",
      "Accuracy Of New Model: -0.022589431360212187 Accuracy Of Current Best: 0.3157513534835431\n",
      "Accuracy Of New Model: -0.18315307406093928 Accuracy Of Current Best: 0.3157513534835431\n",
      "Accuracy Of New Model: -0.05480954325630383 Accuracy Of Current Best: 0.3157513534835431\n",
      "Accuracy Of New Model: 0.27828120679217283 Accuracy Of Current Best: 0.3157513534835431\n",
      "Accuracy Of New Model: 0.05506832478024992 Accuracy Of Current Best: 0.3157513534835431\n",
      "Accuracy Of New Model: 0.23164815823925733 Accuracy Of Current Best: 0.3157513534835431\n",
      "Accuracy Of New Model: 0.3068407025629025 Accuracy Of Current Best: 0.3157513534835431\n",
      "Accuracy Of New Model: 0.006185662955054072 Accuracy Of Current Best: 0.3157513534835431\n",
      "Accuracy Of New Model: -0.441281659152126 Accuracy Of Current Best: 0.3157513534835431\n",
      "Accuracy Of New Model: 0.12131656185935924 Accuracy Of Current Best: 0.3157513534835431\n",
      "Accuracy Of New Model: 0.14284039583884955 Accuracy Of Current Best: 0.3157513534835431\n",
      "Accuracy Of New Model: 0.10872112815088775 Accuracy Of Current Best: 0.3157513534835431\n",
      "Accuracy Of New Model: 0.22163010772745118 Accuracy Of Current Best: 0.3157513534835431\n",
      "Accuracy Of New Model: 0.010026871455398934 Accuracy Of Current Best: 0.3157513534835431\n",
      "Accuracy Of New Model: -0.058692205743727355 Accuracy Of Current Best: 0.3157513534835431\n",
      "Accuracy Of New Model: -0.09614098671246607 Accuracy Of Current Best: 0.3157513534835431\n",
      "Accuracy Of New Model: 0.2067400866438338 Accuracy Of Current Best: 0.3157513534835431\n",
      "Accuracy Of New Model: -0.36150539597298725 Accuracy Of Current Best: 0.3157513534835431\n",
      "Accuracy Of New Model: 0.18729547173235372 Accuracy Of Current Best: 0.3157513534835431\n",
      "Accuracy Of New Model: 0.16691616462746528 Accuracy Of Current Best: 0.3157513534835431\n",
      "Accuracy Of New Model: 0.02175344762516096 Accuracy Of Current Best: 0.3157513534835431\n",
      "Accuracy Of New Model: 0.0874048986586431 Accuracy Of Current Best: 0.3157513534835431\n",
      "Accuracy Of New Model: 0.13765664857944904 Accuracy Of Current Best: 0.3157513534835431\n",
      "Accuracy Of New Model: -0.12992019964711288 Accuracy Of Current Best: 0.3157513534835431\n",
      "Accuracy Of New Model: 0.07459953930707464 Accuracy Of Current Best: 0.3157513534835431\n",
      "Accuracy Of New Model: 0.14171749771696474 Accuracy Of Current Best: 0.3157513534835431\n",
      "Accuracy Of New Model: -0.11284355618229869 Accuracy Of Current Best: 0.3157513534835431\n",
      "Accuracy Of New Model: 0.07548489050709595 Accuracy Of Current Best: 0.3157513534835431\n",
      "Accuracy Of New Model: 0.03500145147226286 Accuracy Of Current Best: 0.3157513534835431\n",
      "Accuracy Of New Model: 0.25375379469268133 Accuracy Of Current Best: 0.3157513534835431\n",
      "Accuracy Of New Model: 0.1043371346808839 Accuracy Of Current Best: 0.3157513534835431\n",
      "Accuracy Of New Model: -0.03387671127883496 Accuracy Of Current Best: 0.3157513534835431\n",
      "Accuracy Of New Model: -0.06695866611957246 Accuracy Of Current Best: 0.3157513534835431\n",
      "Accuracy Of New Model: 0.15591790747295886 Accuracy Of Current Best: 0.3157513534835431\n",
      "Accuracy Of New Model: 0.19237121420461467 Accuracy Of Current Best: 0.3157513534835431\n",
      "Accuracy Of New Model: 0.1381448300786664 Accuracy Of Current Best: 0.3157513534835431\n",
      "Accuracy Of New Model: -0.27115715138016916 Accuracy Of Current Best: 0.3157513534835431\n",
      "Accuracy Of New Model: -0.013767980983097727 Accuracy Of Current Best: 0.3157513534835431\n",
      "Accuracy Of New Model: 0.12533036334640202 Accuracy Of Current Best: 0.3157513534835431\n",
      "Accuracy Of New Model: 0.2622171885950969 Accuracy Of Current Best: 0.3157513534835431\n",
      "Accuracy Of New Model: 0.09152254437296103 Accuracy Of Current Best: 0.3157513534835431\n",
      "Accuracy Of New Model: 0.042237768855354796 Accuracy Of Current Best: 0.3157513534835431\n",
      "Accuracy Of New Model: 0.12386205151808927 Accuracy Of Current Best: 0.3157513534835431\n",
      "Accuracy Of New Model: 0.21688281027287903 Accuracy Of Current Best: 0.3157513534835431\n",
      "Accuracy Of New Model: 0.17632787441034603 Accuracy Of Current Best: 0.3157513534835431\n",
      "Accuracy Of New Model: 0.08043630314672123 Accuracy Of Current Best: 0.3157513534835431\n",
      "Accuracy Of New Model: -0.05548298751499914 Accuracy Of Current Best: 0.3157513534835431\n",
      "Accuracy Of New Model: -0.1000264974361107 Accuracy Of Current Best: 0.3157513534835431\n",
      "Accuracy Of New Model: 0.254932050757005 Accuracy Of Current Best: 0.3157513534835431\n",
      "Accuracy Of New Model: -0.5109732511664868 Accuracy Of Current Best: 0.3157513534835431\n",
      "Accuracy Of New Model: 0.11903742838231646 Accuracy Of Current Best: 0.3157513534835431\n",
      "Accuracy Of New Model: 0.13632550228640117 Accuracy Of Current Best: 0.3157513534835431\n",
      "Accuracy Of New Model: -0.128278565820791 Accuracy Of Current Best: 0.3157513534835431\n",
      "Accuracy Of New Model: 0.2895286976419167 Accuracy Of Current Best: 0.3157513534835431\n",
      "Accuracy Of New Model: 0.28472258922001936 Accuracy Of Current Best: 0.3157513534835431\n",
      "Accuracy Of New Model: 0.19028183903410978 Accuracy Of Current Best: 0.3157513534835431\n",
      "Accuracy Of New Model: -0.5660702039417558 Accuracy Of Current Best: 0.3157513534835431\n"
     ]
    }
   ],
   "source": [
    "#Create A For Loop That Trains Model Continuously Until It Reaches A Certain Score Then Saves It \n",
    "\n",
    "#Best Score Variable\n",
    "best = 0\n",
    "\n",
    "for acc in range(100):\n",
    "    #Splitting Cleaned Data into 4 Specific Arrays For Testing And Training\n",
    "    x_train, x_test, y_train, y_test = sklearn.model_selection.train_test_split(X, y, test_size=0.1)\n",
    "\n",
    "    #Create Training Model\n",
    "    linear = linear_model.LinearRegression()\n",
    "\n",
    "    #Fit Model To Training Data\n",
    "    linear.fit(x_train, y_train)\n",
    "\n",
    "    #Get Accuracy Of Model\n",
    "    accuracy = linear.score(x_test, y_test)\n",
    "    print(\"Accuracy Of New Model: \" + str(accuracy), \"Accuracy Of Current Best: \" + str(best))\n",
    "\n",
    "\n",
    "    #Only Save Model If New Model Is Better Than Our Current Best\n",
    "    if accuracy > best:\n",
    "\n",
    "        best = accuracy\n",
    "\n",
    "        #Save Model With The Pickle Module\n",
    "        with open(\"salaryModel_II.pickle\", \"wb\") as f:\n",
    "            pickle.dump(linear, f)\n",
    "            print(\"saved new model\")\n",
    "\n",
    "\n",
    "    \n",
    "    "
   ]
  },
  {
   "cell_type": "code",
   "execution_count": null,
   "metadata": {},
   "outputs": [],
   "source": [
    "# #Loading Training Model From Previously Created\n",
    "\n",
    "# #Reading In Model From Pickle File\n",
    "# pickle_in = open(\"salaryModel.pickle\", \"rb\")\n",
    "\n",
    "# #Now Load It Into Linear Model\n",
    "# linear = pickle.load(pickle_in)\n",
    "\n",
    "# #Get Accuracy Of Model\n",
    "# accuracy = linear.score(x_test, y_test)\n",
    "\n",
    "# print(accuracy)"
   ]
  },
  {
   "cell_type": "code",
   "execution_count": 22,
   "metadata": {},
   "outputs": [
    {
     "name": "stdout",
     "output_type": "stream",
     "text": [
      "Co: \n",
      " [-16.83170515]\n",
      "Intercept: \n",
      " 136.6696269982238\n"
     ]
    }
   ],
   "source": [
    "#How To Use The Model\n",
    "#Use And Test It On Data\n",
    "\n",
    "#Show y and b and other coefficients\n",
    "print(\"Co: \\n\", + linear.coef_)\n",
    "print(\"Intercept: \\n\", + linear.intercept_)"
   ]
  },
  {
   "cell_type": "code",
   "execution_count": 23,
   "metadata": {},
   "outputs": [
    {
     "name": "stdout",
     "output_type": "stream",
     "text": [
      "103.00621669626997 [2] 155\n",
      "119.83792184724689 [1] 115\n",
      "136.6696269982238 [0] 125\n",
      "119.83792184724689 [1] 135\n",
      "119.83792184724689 [1] 115\n",
      "119.83792184724689 [1] 155\n",
      "119.83792184724689 [1] 135\n",
      "119.83792184724689 [1] 135\n",
      "119.83792184724689 [1] 155\n",
      "136.6696269982238 [0] 105\n",
      "103.00621669626997 [2] 155\n",
      "136.6696269982238 [0] 95\n",
      "119.83792184724689 [1] 105\n",
      "103.00621669626997 [2] 105\n",
      "119.83792184724689 [1] 95\n",
      "119.83792184724689 [1] 95\n",
      "136.6696269982238 [0] 145\n",
      "136.6696269982238 [0] 125\n"
     ]
    }
   ],
   "source": [
    "#Use This To Predict On A Real Student\n",
    "predictions = linear.predict(x_test) #Array of Ys predicted based on trained model and x test input\n",
    "\n",
    "#Show Predictions, x_test(or input data that wasn't trained on), and actual students grades\n",
    "for x in range(len(predictions)):\n",
    "    print(predictions[x], x_test[x], y_test[x])"
   ]
  },
  {
   "cell_type": "code",
   "execution_count": 24,
   "metadata": {},
   "outputs": [
    {
     "data": {
      "image/png": "[encoded data removed]",
      "text/plain": [
       "<Figure size 432x288 with 1 Axes>"
      ]
     },
     "metadata": {
      "needs_background": "light"
     },
     "output_type": "display_data"
    }
   ],
   "source": [
    "#Lets Plot The Data\n",
    "style.use('ggplot') #Makes Plot Look Half Decent\n",
    "\n",
    "#Setup A Scatter Plot\n",
    "p = \"city\"\n",
    "#predict is set to \"salary\"\n",
    "pyplot.scatter(data[p], data[predict])\n",
    "#Label Data\n",
    "pyplot.xlabel(p)\n",
    "pyplot.ylabel(\"Final Grade\") #G3 is Final Grade\n",
    "pyplot.show()"
   ]
  }
 ],
 "metadata": {
  "kernelspec": {
   "display_name": "Python 3.9.12 ('tensor2')",
   "language": "python",
   "name": "python3"
  },
  "language_info": {
   "codemirror_mode": {
    "name": "ipython",
    "version": 3
   },
   "file_extension": ".py",
   "mimetype": "text/x-python",
   "name": "python",
   "nbconvert_exporter": "python",
   "pygments_lexer": "ipython3",
   "version": "3.9.12"
  },
  "orig_nbformat": 4,
  "vscode": {
   "interpreter": {
    "hash": "da26da1097656e9fce0ba746bf7a787516ead27f54711fd8e882d2c9c52ad946"
   }
  }
 },
 "nbformat": 4,
 "nbformat_minor": 2
}
