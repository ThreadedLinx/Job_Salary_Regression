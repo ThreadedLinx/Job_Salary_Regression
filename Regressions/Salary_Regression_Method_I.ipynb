{
 "cells": [
  {
   "cell_type": "code",
   "execution_count": 1,
   "metadata": {},
   "outputs": [],
   "source": [
    "# Import libraries \n",
    "\n",
    "import numpy as np # linear algebra\n",
    "import pandas as pd # data processing, \n",
    "\n",
    "# Libraries for data visualization\n",
    "import matplotlib.pyplot as plt  \n",
    "import seaborn as sns \n",
    "from pandas.plotting import scatter_matrix\n",
    "\n",
    "# Import scikit_learn module for the algorithm/model: Linear Regression\n",
    "from sklearn.linear_model import LogisticRegression\n",
    "# Import scikit_learn module to split the dataset into train.test sub-datasets\n",
    "from sklearn.model_selection import train_test_split \n",
    "#Linear Modeal From scikit_learn\n",
    "from sklearn import linear_model\n",
    "\n",
    "# Import scikit_learn module for k-fold cross validation\n",
    "from sklearn.model_selection import KFold\n",
    "from sklearn.model_selection import cross_val_score\n",
    "# import the metrics class\n",
    "#from sklearn import metrics\n",
    "import sklearn.metrics as sm\n",
    "# import stats for accuracy \n",
    "# import statsmodels.api as sm\n"
   ]
  },
  {
   "cell_type": "code",
   "execution_count": 2,
   "metadata": {},
   "outputs": [
    {
     "name": "stdout",
     "output_type": "stream",
     "text": [
      "<class 'pandas.core.frame.DataFrame'>\n",
      "RangeIndex: 147 entries, 0 to 146\n",
      "Data columns (total 6 columns):\n",
      " #   Column          Non-Null Count  Dtype  \n",
      "---  ------          --------------  -----  \n",
      " 0   position        147 non-null    object \n",
      " 1   input Position  147 non-null    object \n",
      " 2   company         147 non-null    object \n",
      " 3   location        147 non-null    object \n",
      " 4   input City      147 non-null    object \n",
      " 5   salary          147 non-null    float64\n",
      "dtypes: float64(1), object(5)\n",
      "memory usage: 7.0+ KB\n"
     ]
    }
   ],
   "source": [
    "#importing csv into a pandas dataframe\n",
    "salary_dataset = pd.read_csv('/Users/nay/Desktop/Development/Data_Analyst/Indeed_Salary_By_Location/Saved_Searches_CSV/Creative%20Director_in_New%20York%20City_Los%20Angeles_Houston.csv')\n",
    "#printing Data Frame\n",
    "salary_dataset.info()"
   ]
  },
  {
   "cell_type": "code",
   "execution_count": 3,
   "metadata": {},
   "outputs": [
    {
     "data": {
      "text/plain": [
       "position          0\n",
       "input Position    0\n",
       "company           0\n",
       "location          0\n",
       "input City        0\n",
       "salary            0\n",
       "dtype: int64"
      ]
     },
     "execution_count": 3,
     "metadata": {},
     "output_type": "execute_result"
    }
   ],
   "source": [
    "#Checking If There Are Special Characters in The Data\n",
    "salary_dataset.isin(['$']).sum(axis=0)"
   ]
  },
  {
   "cell_type": "code",
   "execution_count": 4,
   "metadata": {},
   "outputs": [
    {
     "name": "stdout",
     "output_type": "stream",
     "text": [
      "---- position ---\n",
      "Creative Director                                                  48\n",
      "Associate Creative Director                                        11\n",
      "Metaverse Creative Director                                         5\n",
      "Sr. Director Solutions Design                                       4\n",
      "Associate Creative Director (Freelance) - Remote                    4\n",
      "Associate Director, Social Creative, GQ Sports                      3\n",
      "Director, Creative Advertising                                      3\n",
      "Director, Creative Services (Graphic Designer)                      3\n",
      "Associate Creative Director, Social Creative (Freeform)             3\n",
      "Director, eCommerce Creative – Def Jam                              3\n",
      "Creative Director (Remote)                                          3\n",
      "Creative Director, FX Networks                                      3\n",
      "Executive Creative Director                                         3\n",
      "Director, Creative Marketing                                        3\n",
      "Brand Creative Director                                             3\n",
      "Director, Global Creative Packaging, MAC                            3\n",
      "Creative Director, Marketing                                        3\n",
      "Associate Creative Director, Refinery29                             3\n",
      "Associate Creative Director Boston / New York / Bay Area / C...     3\n",
      "Creative Director, Blue Studio                                      3\n",
      "Creative Director, Copy                                             3\n",
      "Business Development Director - Smart Connected Products Des...     2\n",
      "Design Director                                                     2\n",
      "Associate Creative Director - Design - Deloitte’s Green Dot...      2\n",
      "Director I, Design Engineering                                      2\n",
      "Director of Creative Media - Football                               2\n",
      "Creative Director, Experience Design-Deloitte’s Green Dot Ag...     2\n",
      "Creative Director - REMOTE WORK                                     2\n",
      "Senior Designer/Art Director                                        2\n",
      "Associate Creative Director, Video                                  2\n",
      "Group Creative Director - Kettle                                    2\n",
      "Director of Digital Design (Autodesk)                               2\n",
      "Creative Direction, Content Director                                1\n",
      "Freelance Creative Director                                         1\n",
      "Creative Director, Shared Studio                                    1\n",
      "Associate Director, Creative Strategy                               1\n",
      "UX Design Director, Analytics & Recommendations                     1\n",
      "Name: position, dtype: int64\n",
      "---- input Position ---\n",
      "Creative Director    147\n",
      "Name: input Position, dtype: int64\n",
      "---- company ---\n",
      "Paramount+                                    9\n",
      "Accenture                                     8\n",
      "Deloitte                                      4\n",
      "Revolt Media & TV                             4\n",
      "Conde Nast                                    3\n",
      "DigDeep Right to Water Project                3\n",
      "Netflix                                       3\n",
      "Trailer Park                                  3\n",
      "Lionsgate                                     3\n",
      "Havas Group                                   3\n",
      "Korrus                                        3\n",
      "Golin                                         3\n",
      "Disney Media & Entertainment Distribution     3\n",
      "NTWRK                                         3\n",
      "Olaplex                                       3\n",
      "Def Jam                                       3\n",
      "Walt Disney Television                        3\n",
      "attn:                                         3\n",
      "Warner Music Group                            3\n",
      "IMAX Corporation                              3\n",
      "Dolls Kill                                    3\n",
      "Movement Strategy                             3\n",
      "Piano                                         3\n",
      "B-Reel                                        3\n",
      "VICE MEDIA GROUP                              3\n",
      "Neoscape                                      3\n",
      "The Estée Lauder Companies                    3\n",
      "Hearst Media Services                         3\n",
      "IBM                                           3\n",
      "Blink Fitness                                 3\n",
      "Showtime                                      3\n",
      "Razorfish                                     3\n",
      "Blizzard Entertainment                        2\n",
      "IA Interior Architects                        2\n",
      "Buck Mason                                    2\n",
      "BairesDev                                     2\n",
      "Pennebaker                                    2\n",
      "Happylucky Inc                                2\n",
      "Billie                                        2\n",
      "Zero Studios                                  2\n",
      "Fluor Corporation                             2\n",
      "Kettle                                        2\n",
      "The Crane Companies                           2\n",
      "Crane Worldwide Logistics LLC                 2\n",
      "BGE, Inc.                                     2\n",
      "Rice University                               2\n",
      "The Christian Broadcasting Network            1\n",
      "Flex                                          1\n",
      "Luxury Matchmaking Services, L.L.C.           1\n",
      "Becore                                        1\n",
      "Skilled Creative                              1\n",
      "Gravity Road                                  1\n",
      "Employment Opportunities at BuzzFeed, Inc.    1\n",
      "Spring Health                                 1\n",
      "The New York Times                            1\n",
      "Indeed                                        1\n",
      "Name: company, dtype: int64\n",
      "---- location ---\n",
      "Los Angeles, CA                                      12\n",
      "Remote in Los Angeles, CA                             8\n",
      "Remote in New York, NY                                7\n",
      "Santa Monica, CA 90404                                6\n",
      "New York, NY\\n+1 location                             6\n",
      "Houston, TX 77073                                     4\n",
      "Houston, TX 77002 \\n(Downtown area)                   4\n",
      "Houston, TX                                           4\n",
      "Houston, TX 77002 \\n(Downtown area)\\n+2 locations     4\n",
      "Remote in New York, NY 10003                          4\n",
      "Los Angeles, CA 90012                                 3\n",
      "Los Angeles, CA 90013 \\n(Downtown area)               3\n",
      "Remote in Los Angeles, CA 90028                       3\n",
      "Los Angeles, CA\\n+2 locations                         3\n",
      "New York, NY\\n+2 locations                            3\n",
      "Hybrid remote in Los Angeles, CA 90021                3\n",
      "Los Angeles, CA 90079 \\n(Downtown area)               3\n",
      "Hybrid remote in Los Angeles, CA 90028                3\n",
      "Los Angeles, CA 90028 \\n(Hollywood area)              3\n",
      "Los Angeles, CA 90094                                 3\n",
      "Burbank, CA                                           3\n",
      "Burbank, CA 91505                                     3\n",
      "Los Angeles, CA 90038                                 3\n",
      "New York, NY 10019 \\n(Midtown area)                   3\n",
      "Remote in New York, NY 10036\\n+1 location             3\n",
      "New York, NY 10013 \\n(Tribeca area)                   3\n",
      "New York, NY 10036                                    3\n",
      "New York, NY 10014 \\n(SoHo area)\\n+1 location         3\n",
      "New York, NY 10001 \\n(Chelsea area)\\n+1 location      3\n",
      "New York, NY 10016 \\n(Gramercy area)                  3\n",
      "Brooklyn, NY 11249 \\n(Chelsea area)\\n+1 location      3\n",
      "Remote in New York, NY 10014\\n+1 location             2\n",
      "Los Angeles, CA 90026 \\n(Silver Lake area)            2\n",
      "Houston, TX 77042 \\n(Westchase area)                  2\n",
      "Houston, TX 77008 \\n(Heights area)                    2\n",
      "Sugar Land, TX                                        2\n",
      "Remote in United States                               2\n",
      "Remote in New York, NY 10014                          2\n",
      "Los Angeles, CA 90028                                 2\n",
      "Santa Monica, CA 90405                                2\n",
      "Los Angeles, CA 90049                                 1\n",
      "New York, NY 10012 \\n(Little Italy area)              1\n",
      "Remote in New York, NY 10018                          1\n",
      "New York, NY\\n+4 locations                            1\n",
      "New York, NY                                          1\n",
      "Remote in New York, NY 10004                          1\n",
      "Los Angeles, CA 90017                                 1\n",
      "Name: location, dtype: int64\n",
      "---- input City ---\n",
      "Los Angeles      70\n",
      "New York City    53\n",
      "Houston          24\n",
      "Name: input City, dtype: int64\n",
      "---- salary ---\n",
      "119.0000    6\n",
      "114.0000    6\n",
      "132.5000    6\n",
      "152.0000    5\n",
      "110.1500    5\n",
      "211.4580    5\n",
      "80.0000     5\n",
      "114.5000    4\n",
      "130.0000    4\n",
      "103.8500    4\n",
      "124.5000    3\n",
      "133.0000    3\n",
      "122.0000    3\n",
      "173.5000    3\n",
      "105.5000    3\n",
      "110.8500    3\n",
      "185.0000    3\n",
      "125.5000    3\n",
      "96.6500     3\n",
      "70.5000     3\n",
      "91.1500     3\n",
      "92.3500     3\n",
      "93.0000     3\n",
      "190.5000    3\n",
      "75.6835     3\n",
      "96.7000     3\n",
      "101.9000    3\n",
      "175.0000    3\n",
      "159.5000    3\n",
      "134.0000    3\n",
      "126.5000    3\n",
      "100.3000    3\n",
      "135.0000    2\n",
      "112.0000    2\n",
      "100.1500    2\n",
      "118.0000    2\n",
      "131.5000    2\n",
      "111.0500    2\n",
      "143.5000    2\n",
      "101.1000    2\n",
      "149.2495    2\n",
      "136.0000    2\n",
      "50.8000     2\n",
      "112.7000    1\n",
      "102.1500    1\n",
      "84.7000     1\n",
      "180.0000    1\n",
      "142.5000    1\n",
      "173.7400    1\n",
      "118.5000    1\n",
      "94.9500     1\n",
      "216.5000    1\n",
      "Name: salary, dtype: int64\n"
     ]
    }
   ],
   "source": [
    "#Avoid Noisy Features By Checking The Unique Values For Each Column\n",
    "\n",
    "for c in salary_dataset.columns: #looping through dataset\n",
    "    print(\"---- %s ---\" % c) #printing current column name\n",
    "    print(salary_dataset[c].value_counts()) #Using .value_counts() function which returns the count of unique values"
   ]
  },
  {
   "cell_type": "code",
   "execution_count": 5,
   "metadata": {},
   "outputs": [
    {
     "data": {
      "text/plain": [
       "216.5"
      ]
     },
     "execution_count": 5,
     "metadata": {},
     "output_type": "execute_result"
    }
   ],
   "source": [
    "#Feature Mapping Income By Range\n",
    "#salary_dataset['salary'] = salary_dataset['salary'].map({})\n",
    "\n",
    "#Find Minimum and Maximum\n",
    "salary_dataset['salary'].min()\n",
    "salary_dataset['salary'].max()"
   ]
  },
  {
   "cell_type": "code",
   "execution_count": 6,
   "metadata": {},
   "outputs": [],
   "source": [
    "#Setting Salary To Quantitative Feautures Based On Range\n",
    "salary_dataset.loc[(salary_dataset['salary'] >= 50.0) & (salary_dataset['salary'] <= 79.99), 'salary'] = 0\n",
    "salary_dataset.loc[(salary_dataset['salary'] >= 80.0) & (salary_dataset['salary'] <= 99.99), 'salary'] = 1\n",
    "salary_dataset.loc[(salary_dataset['salary'] >= 100.0) & (salary_dataset['salary'] <= 119.99), 'salary'] = 2\n",
    "salary_dataset.loc[(salary_dataset['salary'] >= 120.0) & (salary_dataset['salary'] <= 149.99), 'salary'] = 3\n",
    "salary_dataset.loc[(salary_dataset['salary'] >= 150.0) & (salary_dataset['salary'] <= 179.99), 'salary'] = 4\n",
    "salary_dataset.loc[(salary_dataset['salary'] >= 180.0) & (salary_dataset['salary'] <= 199.99), 'salary'] = 5\n",
    "salary_dataset.loc[(salary_dataset['salary'] >= 200.0), 'salary'] = 6"
   ]
  },
  {
   "cell_type": "code",
   "execution_count": 7,
   "metadata": {},
   "outputs": [
    {
     "data": {
      "text/plain": [
       "2.0    50\n",
       "3.0    39\n",
       "1.0    22\n",
       "4.0    15\n",
       "0.0     8\n",
       "5.0     7\n",
       "6.0     6\n",
       "Name: salary, dtype: int64"
      ]
     },
     "execution_count": 7,
     "metadata": {},
     "output_type": "execute_result"
    }
   ],
   "source": [
    "#Checking If Salary Variables Where Updated\n",
    "salary_dataset['salary'].value_counts()"
   ]
  },
  {
   "cell_type": "code",
   "execution_count": 8,
   "metadata": {},
   "outputs": [
    {
     "data": {
      "text/plain": [
       "Los Angeles      70\n",
       "New York City    53\n",
       "Houston          24\n",
       "Name: input City, dtype: int64"
      ]
     },
     "execution_count": 8,
     "metadata": {},
     "output_type": "execute_result"
    }
   ],
   "source": [
    "salary_dataset['input City'].value_counts()"
   ]
  },
  {
   "cell_type": "code",
   "execution_count": 9,
   "metadata": {},
   "outputs": [],
   "source": [
    "#Setting input City To Quantitative Value\n",
    "salary_dataset.loc[(salary_dataset['input City'] == 'Los Angeles'), 'input City'] = 0\n",
    "salary_dataset.loc[(salary_dataset['input City'] == 'New York City'), 'input City'] = 1\n",
    "salary_dataset.loc[(salary_dataset['input City'] == 'Houston'), 'input City'] = 2"
   ]
  },
  {
   "cell_type": "code",
   "execution_count": 10,
   "metadata": {},
   "outputs": [
    {
     "data": {
      "text/plain": [
       "0    70\n",
       "1    53\n",
       "2    24\n",
       "Name: input City, dtype: int64"
      ]
     },
     "execution_count": 10,
     "metadata": {},
     "output_type": "execute_result"
    }
   ],
   "source": [
    "salary_dataset['input City'].value_counts()"
   ]
  },
  {
   "cell_type": "code",
   "execution_count": 11,
   "metadata": {},
   "outputs": [],
   "source": [
    "#Dropping All Unecessary Columns Of Data\n",
    "salary_dataset.drop(['position', 'location', 'company', 'input Position'], axis=1, inplace=True)"
   ]
  },
  {
   "cell_type": "code",
   "execution_count": 12,
   "metadata": {},
   "outputs": [
    {
     "name": "stdout",
     "output_type": "stream",
     "text": [
      "<class 'pandas.core.frame.DataFrame'>\n",
      "RangeIndex: 147 entries, 0 to 146\n",
      "Data columns (total 2 columns):\n",
      " #   Column      Non-Null Count  Dtype  \n",
      "---  ------      --------------  -----  \n",
      " 0   input City  147 non-null    object \n",
      " 1   salary      147 non-null    float64\n",
      "dtypes: float64(1), object(1)\n",
      "memory usage: 2.4+ KB\n"
     ]
    }
   ],
   "source": [
    "salary_dataset.info()"
   ]
  },
  {
   "cell_type": "code",
   "execution_count": 13,
   "metadata": {},
   "outputs": [
    {
     "name": "stdout",
     "output_type": "stream",
     "text": [
      "---- input City ---\n",
      "0    70\n",
      "1    53\n",
      "2    24\n",
      "Name: input City, dtype: int64\n",
      "---- salary ---\n",
      "2.0    50\n",
      "3.0    39\n",
      "1.0    22\n",
      "4.0    15\n",
      "0.0     8\n",
      "5.0     7\n",
      "6.0     6\n",
      "Name: salary, dtype: int64\n"
     ]
    }
   ],
   "source": [
    "for c in salary_dataset.columns: #looping through dataset\n",
    "    print(\"---- %s ---\" % c) #printing current column name\n",
    "    print(salary_dataset[c].value_counts())"
   ]
  },
  {
   "cell_type": "code",
   "execution_count": 14,
   "metadata": {},
   "outputs": [
    {
     "name": "stdout",
     "output_type": "stream",
     "text": [
      "<class 'pandas.core.frame.DataFrame'>\n",
      "RangeIndex: 147 entries, 0 to 146\n",
      "Data columns (total 2 columns):\n",
      " #   Column      Non-Null Count  Dtype  \n",
      "---  ------      --------------  -----  \n",
      " 0   input City  147 non-null    object \n",
      " 1   salary      147 non-null    float64\n",
      "dtypes: float64(1), object(1)\n",
      "memory usage: 2.4+ KB\n"
     ]
    }
   ],
   "source": [
    "salary_dataset.info()"
   ]
  },
  {
   "cell_type": "code",
   "execution_count": 15,
   "metadata": {},
   "outputs": [
    {
     "data": {
      "text/plain": [
       "input City     object\n",
       "salary        float64\n",
       "dtype: object"
      ]
     },
     "metadata": {},
     "output_type": "display_data"
    },
    {
     "data": {
      "text/plain": [
       "input City    object\n",
       "salary         int64\n",
       "dtype: object"
      ]
     },
     "metadata": {},
     "output_type": "display_data"
    }
   ],
   "source": [
    "#Converting Salary Column To Int\n",
    "display(salary_dataset.dtypes)\n",
    "\n",
    "salary_dataset['salary'] = salary_dataset['salary'].astype(int)\n",
    "\n",
    "display(salary_dataset.dtypes)\n"
   ]
  },
  {
   "cell_type": "code",
   "execution_count": 16,
   "metadata": {},
   "outputs": [
    {
     "name": "stdout",
     "output_type": "stream",
     "text": [
      "<class 'pandas.core.frame.DataFrame'>\n",
      "RangeIndex: 147 entries, 0 to 146\n",
      "Data columns (total 2 columns):\n",
      " #   Column      Non-Null Count  Dtype \n",
      "---  ------      --------------  ----- \n",
      " 0   input City  147 non-null    object\n",
      " 1   salary      147 non-null    int64 \n",
      "dtypes: int64(1), object(1)\n",
      "memory usage: 2.4+ KB\n"
     ]
    }
   ],
   "source": [
    "salary_dataset.info()"
   ]
  },
  {
   "cell_type": "code",
   "execution_count": 17,
   "metadata": {},
   "outputs": [
    {
     "data": {
      "text/plain": [
       "input City    object\n",
       "salary         int64\n",
       "dtype: object"
      ]
     },
     "metadata": {},
     "output_type": "display_data"
    },
    {
     "data": {
      "text/plain": [
       "input City    int64\n",
       "salary        int64\n",
       "dtype: object"
      ]
     },
     "metadata": {},
     "output_type": "display_data"
    }
   ],
   "source": [
    "#Converting Input City Column To Int\n",
    "display(salary_dataset.dtypes)\n",
    "\n",
    "salary_dataset['input City'] = salary_dataset['input City'].astype(int)\n",
    "\n",
    "display(salary_dataset.dtypes)"
   ]
  },
  {
   "cell_type": "code",
   "execution_count": 18,
   "metadata": {},
   "outputs": [
    {
     "name": "stdout",
     "output_type": "stream",
     "text": [
      "     input City  salary\n",
      "0             1       1\n",
      "1             1       1\n",
      "2             1       1\n",
      "3             1       3\n",
      "4             1       2\n",
      "..          ...     ...\n",
      "142           2       1\n",
      "143           2       2\n",
      "144           2       3\n",
      "145           2       2\n",
      "146           2       2\n",
      "\n",
      "[147 rows x 2 columns]\n"
     ]
    }
   ],
   "source": [
    "print(salary_dataset)"
   ]
  },
  {
   "cell_type": "code",
   "execution_count": 19,
   "metadata": {},
   "outputs": [
    {
     "data": {
      "text/plain": [
       "<AxesSubplot:xlabel='input City'>"
      ]
     },
     "execution_count": 19,
     "metadata": {},
     "output_type": "execute_result"
    },
    {
     "data": {
      "image/png": "[encoded data removed]",
      "text/plain": [
       "<Figure size 432x288 with 1 Axes>"
      ]
     },
     "metadata": {
      "needs_background": "light"
     },
     "output_type": "display_data"
    }
   ],
   "source": [
    "#Visualing Data With Bar Graphs\n",
    "#Plotting a Bar Graph For input City against Salary To See The Corelation\n",
    "salary_dataset.groupby('input City').salary.mean().plot(kind='bar')"
   ]
  },
  {
   "cell_type": "code",
   "execution_count": 20,
   "metadata": {},
   "outputs": [],
   "source": [
    "#Renaming Input City So It Has No Spaces\n",
    "salary_dataset.rename(columns= {'input City':'city'}, inplace=True)"
   ]
  },
  {
   "cell_type": "code",
   "execution_count": 21,
   "metadata": {},
   "outputs": [
    {
     "name": "stdout",
     "output_type": "stream",
     "text": [
      "<class 'pandas.core.frame.DataFrame'>\n",
      "RangeIndex: 147 entries, 0 to 146\n",
      "Data columns (total 2 columns):\n",
      " #   Column  Non-Null Count  Dtype\n",
      "---  ------  --------------  -----\n",
      " 0   city    147 non-null    int64\n",
      " 1   salary  147 non-null    int64\n",
      "dtypes: int64(2)\n",
      "memory usage: 2.4 KB\n"
     ]
    }
   ],
   "source": [
    "salary_dataset.info()"
   ]
  },
  {
   "cell_type": "code",
   "execution_count": 22,
   "metadata": {},
   "outputs": [],
   "source": [
    "#Setting Indendent and Dependent Vairables\n",
    "X = salary_dataset['city']\n",
    "y = salary_dataset['salary']"
   ]
  },
  {
   "cell_type": "code",
   "execution_count": 23,
   "metadata": {},
   "outputs": [],
   "source": [
    "#Randomly split our data into a training and test set\n",
    "#Set apart 30% of the entire dataset as the test set and assign the training set and test set into four variables, respectively.\n",
    "\n",
    "X_train, X_test, y_train, y_test = train_test_split(X,y, test_size=0.3, random_state=42)\n"
   ]
  },
  {
   "cell_type": "code",
   "execution_count": 24,
   "metadata": {},
   "outputs": [],
   "source": [
    "#Python scikit-learn only accepts the training and test data in a 2-dimensional array format. \n",
    "#We have to perform data transformation on our training set and test set.\n",
    "\n",
    "#Use Numpy reshape function to transform the training/test set from 1-dimensional series to a 2-dimensional array.\n",
    "\n",
    "X_train = np.array(X_train).reshape((len(X_train),1))\n",
    "y_train = np.array(y_train).reshape((len(y_train),1))\n",
    "\n",
    "X_test = np.array(X_test).reshape(len(X_test), 1)\n",
    "y_test = np.array(y_test).reshape(len(y_test), 1)\n"
   ]
  },
  {
   "cell_type": "code",
   "execution_count": 25,
   "metadata": {},
   "outputs": [
    {
     "data": {
      "text/html": [
       "<style>#sk-container-id-1 {color: black;background-color: white;}#sk-container-id-1 pre{padding: 0;}#sk-container-id-1 div.sk-toggleable {background-color: white;}#sk-container-id-1 label.sk-toggleable__label {cursor: pointer;display: block;width: 100%;margin-bottom: 0;padding: 0.3em;box-sizing: border-box;text-align: center;}#sk-container-id-1 label.sk-toggleable__label-arrow:before {content: \"▸\";float: left;margin-right: 0.25em;color: #696969;}#sk-container-id-1 label.sk-toggleable__label-arrow:hover:before {color: black;}#sk-container-id-1 div.sk-estimator:hover label.sk-toggleable__label-arrow:before {color: black;}#sk-container-id-1 div.sk-toggleable__content {max-height: 0;max-width: 0;overflow: hidden;text-align: left;background-color: #f0f8ff;}#sk-container-id-1 div.sk-toggleable__content pre {margin: 0.2em;color: black;border-radius: 0.25em;background-color: #f0f8ff;}#sk-container-id-1 input.sk-toggleable__control:checked~div.sk-toggleable__content {max-height: 200px;max-width: 100%;overflow: auto;}#sk-container-id-1 input.sk-toggleable__control:checked~label.sk-toggleable__label-arrow:before {content: \"▾\";}#sk-container-id-1 div.sk-estimator input.sk-toggleable__control:checked~label.sk-toggleable__label {background-color: #d4ebff;}#sk-container-id-1 div.sk-label input.sk-toggleable__control:checked~label.sk-toggleable__label {background-color: #d4ebff;}#sk-container-id-1 input.sk-hidden--visually {border: 0;clip: rect(1px 1px 1px 1px);clip: rect(1px, 1px, 1px, 1px);height: 1px;margin: -1px;overflow: hidden;padding: 0;position: absolute;width: 1px;}#sk-container-id-1 div.sk-estimator {font-family: monospace;background-color: #f0f8ff;border: 1px dotted black;border-radius: 0.25em;box-sizing: border-box;margin-bottom: 0.5em;}#sk-container-id-1 div.sk-estimator:hover {background-color: #d4ebff;}#sk-container-id-1 div.sk-parallel-item::after {content: \"\";width: 100%;border-bottom: 1px solid gray;flex-grow: 1;}#sk-container-id-1 div.sk-label:hover label.sk-toggleable__label {background-color: #d4ebff;}#sk-container-id-1 div.sk-serial::before {content: \"\";position: absolute;border-left: 1px solid gray;box-sizing: border-box;top: 0;bottom: 0;left: 50%;z-index: 0;}#sk-container-id-1 div.sk-serial {display: flex;flex-direction: column;align-items: center;background-color: white;padding-right: 0.2em;padding-left: 0.2em;position: relative;}#sk-container-id-1 div.sk-item {position: relative;z-index: 1;}#sk-container-id-1 div.sk-parallel {display: flex;align-items: stretch;justify-content: center;background-color: white;position: relative;}#sk-container-id-1 div.sk-item::before, #sk-container-id-1 div.sk-parallel-item::before {content: \"\";position: absolute;border-left: 1px solid gray;box-sizing: border-box;top: 0;bottom: 0;left: 50%;z-index: -1;}#sk-container-id-1 div.sk-parallel-item {display: flex;flex-direction: column;z-index: 1;position: relative;background-color: white;}#sk-container-id-1 div.sk-parallel-item:first-child::after {align-self: flex-end;width: 50%;}#sk-container-id-1 div.sk-parallel-item:last-child::after {align-self: flex-start;width: 50%;}#sk-container-id-1 div.sk-parallel-item:only-child::after {width: 0;}#sk-container-id-1 div.sk-dashed-wrapped {border: 1px dashed gray;margin: 0 0.4em 0.5em 0.4em;box-sizing: border-box;padding-bottom: 0.4em;background-color: white;}#sk-container-id-1 div.sk-label label {font-family: monospace;font-weight: bold;display: inline-block;line-height: 1.2em;}#sk-container-id-1 div.sk-label-container {text-align: center;}#sk-container-id-1 div.sk-container {/* jupyter's `normalize.less` sets `[hidden] { display: none; }` but bootstrap.min.css set `[hidden] { display: none !important; }` so we also need the `!important` here to be able to override the default hidden behavior on the sphinx rendered scikit-learn.org. See: https://github.com/scikit-learn/scikit-learn/issues/21755 */display: inline-block !important;position: relative;}#sk-container-id-1 div.sk-text-repr-fallback {display: none;}</style><div id=\"sk-container-id-1\" class=\"sk-top-container\"><div class=\"sk-text-repr-fallback\"><pre>LinearRegression()</pre><b>In a Jupyter environment, please rerun this cell to show the HTML representation or trust the notebook. <br />On GitHub, the HTML representation is unable to render, please try loading this page with nbviewer.org.</b></div><div class=\"sk-container\" hidden><div class=\"sk-item\"><div class=\"sk-estimator sk-toggleable\"><input class=\"sk-toggleable__control sk-hidden--visually\" id=\"sk-estimator-id-1\" type=\"checkbox\" checked><label for=\"sk-estimator-id-1\" class=\"sk-toggleable__label sk-toggleable__label-arrow\">LinearRegression</label><div class=\"sk-toggleable__content\"><pre>LinearRegression()</pre></div></div></div></div></div>"
      ],
      "text/plain": [
       "LinearRegression()"
      ]
     },
     "execution_count": 25,
     "metadata": {},
     "output_type": "execute_result"
    }
   ],
   "source": [
    "#Train Model\n",
    "#Use the Scikit-Learn LinearRegression function to create a model object.\n",
    "model = linear_model.LinearRegression()\n",
    "#Fit the training set to the model.\n",
    "model.fit(X_train, y_train)\n"
   ]
  },
  {
   "cell_type": "code",
   "execution_count": 26,
   "metadata": {},
   "outputs": [
    {
     "data": {
      "image/png": "[encoded data removed]",
      "text/plain": [
       "<Figure size 432x288 with 1 Axes>"
      ]
     },
     "metadata": {
      "needs_background": "light"
     },
     "output_type": "display_data"
    }
   ],
   "source": [
    "#we have trained a linear model and we first use it to predict the salary on our training set to see how well it fit on the data.\n",
    "\n",
    "y_train_pred = model.predict(X_train)\n",
    "\n",
    "plt.figure()\n",
    "plt.scatter(X_train, y_train, color='blue', label=\"True Value\")\n",
    "plt.plot(X_train, y_train_pred, color='black', linewidth=2, label=\"Prediction\")\n",
    "plt.xlabel(\"Years of Experiences\")\n",
    "plt.ylabel(\"Salary\")\n",
    "plt.title('Prediction Result of Training Data')\n",
    "plt.legend()\n",
    "plt.show()\n"
   ]
  },
  {
   "cell_type": "code",
   "execution_count": 22,
   "metadata": {},
   "outputs": [],
   "source": [
    "#Independent Variable\n",
    "salary_dataset_x = pd.DataFrame(salary_dataset.city)\n",
    "\n",
    "#Dependent Variable\n",
    "salary_dataset_y = pd.DataFrame(salary_dataset.salary)"
   ]
  },
  {
   "cell_type": "code",
   "execution_count": 23,
   "metadata": {},
   "outputs": [],
   "source": [
    "#Initialize Linear Regression Model\n",
    "reg = LogisticRegression()\n",
    "\n",
    "#Split Data Into 77% Training and 33% Testing - For Both The Independent(x) and Dependent(y or salary)\n",
    "x_train, x_test, y_train, y_test = train_test_split(salary_dataset_x, salary_dataset_y, test_size=0.33, random_state=42)\n",
    "\n",
    "#test_size=0.33 creates a test data set with 33% of the data we have and the remaining 77% percent will be our training set to train our model. \n",
    "#This split function returns us a pair of the train set (x_train,y_train) and a pair of the test set (x_test,y_test)."
   ]
  },
  {
   "cell_type": "code",
   "execution_count": 24,
   "metadata": {},
   "outputs": [],
   "source": [
    "#changing to 1d array\n"
   ]
  },
  {
   "cell_type": "code",
   "execution_count": 25,
   "metadata": {},
   "outputs": [],
   "source": [
    "#Train Model With Training Data\n",
    "reg.fit(x_train, y_train.values.ravel())\n",
    "\n",
    "#Print Price Predictions On Our Test Data\n",
    "y_predict = reg.predict(x_test)"
   ]
  },
  {
   "cell_type": "code",
   "execution_count": 26,
   "metadata": {},
   "outputs": [],
   "source": [
    "#Predict Salary Range Based On City\n",
    "#reg.predict([[0]]) "
   ]
  },
  {
   "cell_type": "code",
   "execution_count": 27,
   "metadata": {},
   "outputs": [
    {
     "name": "stdout",
     "output_type": "stream",
     "text": [
      "Accuracy: 0.3469387755102041\n"
     ]
    }
   ],
   "source": [
    "#Printing The Accuracy Of The Test - Comparing Y Test To Y Train\n",
    "print(\"Accuracy:\",metrics.accuracy_score(y_test, y_predict))"
   ]
  }
 ],
 "metadata": {
  "kernelspec": {
   "display_name": "Python 3.10.5 64-bit",
   "language": "python",
   "name": "python3"
  },
  "language_info": {
   "codemirror_mode": {
    "name": "ipython",
    "version": 3
   },
   "file_extension": ".py",
   "mimetype": "text/x-python",
   "name": "python",
   "nbconvert_exporter": "python",
   "pygments_lexer": "ipython3",
   "version": "3.10.5"
  },
  "orig_nbformat": 4,
  "vscode": {
   "interpreter": {
    "hash": "aee8b7b246df8f9039afb4144a1f6fd8d2ca17a180786b69acc140d282b71a49"
   }
  }
 },
 "nbformat": 4,
 "nbformat_minor": 2
}
